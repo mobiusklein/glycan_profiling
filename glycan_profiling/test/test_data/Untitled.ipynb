{
 "cells": [
  {
   "cell_type": "code",
   "execution_count": 1,
   "metadata": {},
   "outputs": [],
   "source": [
    "import glycan_profiling\n",
    "from glycan_profiling import serialize"
   ]
  },
  {
   "cell_type": "code",
   "execution_count": 2,
   "metadata": {},
   "outputs": [],
   "source": [
    "rev_db = serialize.DatabaseBoundOperation(r\"c:\\users\\asus\\appdata\\local\\temp\\tmp1s8k4s\")\n",
    "fwd_db = serialize.DatabaseBoundOperation(r\"c:\\users\\asus\\appdata\\local\\temp\\tmpndyjvb\")"
   ]
  },
  {
   "cell_type": "code",
   "execution_count": 3,
   "metadata": {},
   "outputs": [],
   "source": [
    "fwd_prots = fwd_db.query(serialize.Protein).all()\n",
    "rev_prots = rev_db.query(serialize.Protein).all()"
   ]
  },
  {
   "cell_type": "code",
   "execution_count": 4,
   "metadata": {},
   "outputs": [],
   "source": [
    "for fx, rx in zip(fwd_prots, rev_prots):\n",
    "    assert fx.name == rx.name\n",
    "    assert len(fx.glycosylation_sites) == len(rx.glycosylation_sites)"
   ]
  },
  {
   "cell_type": "code",
   "execution_count": null,
   "metadata": {},
   "outputs": [],
   "source": []
  }
 ],
 "metadata": {
  "kernelspec": {
   "display_name": "Python 2",
   "language": "python",
   "name": "python2"
  },
  "language_info": {
   "codemirror_mode": {
    "name": "ipython",
    "version": 2
   },
   "file_extension": ".py",
   "mimetype": "text/x-python",
   "name": "python",
   "nbconvert_exporter": "python",
   "pygments_lexer": "ipython2",
   "version": "2.7.14"
  }
 },
 "nbformat": 4,
 "nbformat_minor": 2
}
